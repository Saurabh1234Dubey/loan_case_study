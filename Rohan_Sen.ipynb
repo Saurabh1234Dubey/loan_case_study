{
 "cells": [
  {
   "cell_type": "code",
   "execution_count": 25,
   "id": "f37baf2f",
   "metadata": {},
   "outputs": [
    {
     "name": "stderr",
     "output_type": "stream",
     "text": [
      "C:\\Users\\ANKITA\\AppData\\Local\\Temp\\ipykernel_8964\\2687993151.py:7: DtypeWarning: Columns (47) have mixed types. Specify dtype option on import or set low_memory=False.\n",
      "  df = pd.read_csv('loan/loan.csv')\n"
     ]
    }
   ],
   "source": [
    "import pandas as pd\n",
    "import numpy as np\n",
    "import matplotlib.pyplot as plt\n",
    "import seaborn as sns\n",
    "\n",
    "# df = pd.read_csv('loan/loan.csv')\n",
    "df = pd.read_csv('loan/loan.csv')"
   ]
  },
  {
   "cell_type": "code",
   "execution_count": 26,
   "id": "44082c09",
   "metadata": {},
   "outputs": [
    {
     "data": {
      "text/html": [
       "<div>\n",
       "<style scoped>\n",
       "    .dataframe tbody tr th:only-of-type {\n",
       "        vertical-align: middle;\n",
       "    }\n",
       "\n",
       "    .dataframe tbody tr th {\n",
       "        vertical-align: top;\n",
       "    }\n",
       "\n",
       "    .dataframe thead th {\n",
       "        text-align: right;\n",
       "    }\n",
       "</style>\n",
       "<table border=\"1\" class=\"dataframe\">\n",
       "  <thead>\n",
       "    <tr style=\"text-align: right;\">\n",
       "      <th></th>\n",
       "      <th>id</th>\n",
       "      <th>member_id</th>\n",
       "      <th>loan_amnt</th>\n",
       "      <th>funded_amnt</th>\n",
       "      <th>funded_amnt_inv</th>\n",
       "      <th>term</th>\n",
       "      <th>int_rate</th>\n",
       "      <th>installment</th>\n",
       "      <th>grade</th>\n",
       "      <th>sub_grade</th>\n",
       "      <th>...</th>\n",
       "      <th>num_tl_90g_dpd_24m</th>\n",
       "      <th>num_tl_op_past_12m</th>\n",
       "      <th>pct_tl_nvr_dlq</th>\n",
       "      <th>percent_bc_gt_75</th>\n",
       "      <th>pub_rec_bankruptcies</th>\n",
       "      <th>tax_liens</th>\n",
       "      <th>tot_hi_cred_lim</th>\n",
       "      <th>total_bal_ex_mort</th>\n",
       "      <th>total_bc_limit</th>\n",
       "      <th>total_il_high_credit_limit</th>\n",
       "    </tr>\n",
       "  </thead>\n",
       "  <tbody>\n",
       "    <tr>\n",
       "      <th>0</th>\n",
       "      <td>1077501</td>\n",
       "      <td>1296599</td>\n",
       "      <td>5000</td>\n",
       "      <td>5000</td>\n",
       "      <td>4975.0</td>\n",
       "      <td>36 months</td>\n",
       "      <td>10.65%</td>\n",
       "      <td>162.87</td>\n",
       "      <td>B</td>\n",
       "      <td>B2</td>\n",
       "      <td>...</td>\n",
       "      <td>NaN</td>\n",
       "      <td>NaN</td>\n",
       "      <td>NaN</td>\n",
       "      <td>NaN</td>\n",
       "      <td>0.0</td>\n",
       "      <td>0.0</td>\n",
       "      <td>NaN</td>\n",
       "      <td>NaN</td>\n",
       "      <td>NaN</td>\n",
       "      <td>NaN</td>\n",
       "    </tr>\n",
       "    <tr>\n",
       "      <th>1</th>\n",
       "      <td>1077430</td>\n",
       "      <td>1314167</td>\n",
       "      <td>2500</td>\n",
       "      <td>2500</td>\n",
       "      <td>2500.0</td>\n",
       "      <td>60 months</td>\n",
       "      <td>15.27%</td>\n",
       "      <td>59.83</td>\n",
       "      <td>C</td>\n",
       "      <td>C4</td>\n",
       "      <td>...</td>\n",
       "      <td>NaN</td>\n",
       "      <td>NaN</td>\n",
       "      <td>NaN</td>\n",
       "      <td>NaN</td>\n",
       "      <td>0.0</td>\n",
       "      <td>0.0</td>\n",
       "      <td>NaN</td>\n",
       "      <td>NaN</td>\n",
       "      <td>NaN</td>\n",
       "      <td>NaN</td>\n",
       "    </tr>\n",
       "    <tr>\n",
       "      <th>2</th>\n",
       "      <td>1077175</td>\n",
       "      <td>1313524</td>\n",
       "      <td>2400</td>\n",
       "      <td>2400</td>\n",
       "      <td>2400.0</td>\n",
       "      <td>36 months</td>\n",
       "      <td>15.96%</td>\n",
       "      <td>84.33</td>\n",
       "      <td>C</td>\n",
       "      <td>C5</td>\n",
       "      <td>...</td>\n",
       "      <td>NaN</td>\n",
       "      <td>NaN</td>\n",
       "      <td>NaN</td>\n",
       "      <td>NaN</td>\n",
       "      <td>0.0</td>\n",
       "      <td>0.0</td>\n",
       "      <td>NaN</td>\n",
       "      <td>NaN</td>\n",
       "      <td>NaN</td>\n",
       "      <td>NaN</td>\n",
       "    </tr>\n",
       "    <tr>\n",
       "      <th>3</th>\n",
       "      <td>1076863</td>\n",
       "      <td>1277178</td>\n",
       "      <td>10000</td>\n",
       "      <td>10000</td>\n",
       "      <td>10000.0</td>\n",
       "      <td>36 months</td>\n",
       "      <td>13.49%</td>\n",
       "      <td>339.31</td>\n",
       "      <td>C</td>\n",
       "      <td>C1</td>\n",
       "      <td>...</td>\n",
       "      <td>NaN</td>\n",
       "      <td>NaN</td>\n",
       "      <td>NaN</td>\n",
       "      <td>NaN</td>\n",
       "      <td>0.0</td>\n",
       "      <td>0.0</td>\n",
       "      <td>NaN</td>\n",
       "      <td>NaN</td>\n",
       "      <td>NaN</td>\n",
       "      <td>NaN</td>\n",
       "    </tr>\n",
       "    <tr>\n",
       "      <th>4</th>\n",
       "      <td>1075358</td>\n",
       "      <td>1311748</td>\n",
       "      <td>3000</td>\n",
       "      <td>3000</td>\n",
       "      <td>3000.0</td>\n",
       "      <td>60 months</td>\n",
       "      <td>12.69%</td>\n",
       "      <td>67.79</td>\n",
       "      <td>B</td>\n",
       "      <td>B5</td>\n",
       "      <td>...</td>\n",
       "      <td>NaN</td>\n",
       "      <td>NaN</td>\n",
       "      <td>NaN</td>\n",
       "      <td>NaN</td>\n",
       "      <td>0.0</td>\n",
       "      <td>0.0</td>\n",
       "      <td>NaN</td>\n",
       "      <td>NaN</td>\n",
       "      <td>NaN</td>\n",
       "      <td>NaN</td>\n",
       "    </tr>\n",
       "  </tbody>\n",
       "</table>\n",
       "<p>5 rows × 111 columns</p>\n",
       "</div>"
      ],
      "text/plain": [
       "        id  member_id  loan_amnt  funded_amnt  funded_amnt_inv        term  \\\n",
       "0  1077501    1296599       5000         5000           4975.0   36 months   \n",
       "1  1077430    1314167       2500         2500           2500.0   60 months   \n",
       "2  1077175    1313524       2400         2400           2400.0   36 months   \n",
       "3  1076863    1277178      10000        10000          10000.0   36 months   \n",
       "4  1075358    1311748       3000         3000           3000.0   60 months   \n",
       "\n",
       "  int_rate  installment grade sub_grade  ... num_tl_90g_dpd_24m  \\\n",
       "0   10.65%       162.87     B        B2  ...                NaN   \n",
       "1   15.27%        59.83     C        C4  ...                NaN   \n",
       "2   15.96%        84.33     C        C5  ...                NaN   \n",
       "3   13.49%       339.31     C        C1  ...                NaN   \n",
       "4   12.69%        67.79     B        B5  ...                NaN   \n",
       "\n",
       "  num_tl_op_past_12m pct_tl_nvr_dlq  percent_bc_gt_75 pub_rec_bankruptcies  \\\n",
       "0                NaN            NaN               NaN                  0.0   \n",
       "1                NaN            NaN               NaN                  0.0   \n",
       "2                NaN            NaN               NaN                  0.0   \n",
       "3                NaN            NaN               NaN                  0.0   \n",
       "4                NaN            NaN               NaN                  0.0   \n",
       "\n",
       "  tax_liens tot_hi_cred_lim total_bal_ex_mort total_bc_limit  \\\n",
       "0       0.0             NaN               NaN            NaN   \n",
       "1       0.0             NaN               NaN            NaN   \n",
       "2       0.0             NaN               NaN            NaN   \n",
       "3       0.0             NaN               NaN            NaN   \n",
       "4       0.0             NaN               NaN            NaN   \n",
       "\n",
       "  total_il_high_credit_limit  \n",
       "0                        NaN  \n",
       "1                        NaN  \n",
       "2                        NaN  \n",
       "3                        NaN  \n",
       "4                        NaN  \n",
       "\n",
       "[5 rows x 111 columns]"
      ]
     },
     "execution_count": 26,
     "metadata": {},
     "output_type": "execute_result"
    }
   ],
   "source": [
    "df.head()"
   ]
  },
  {
   "cell_type": "markdown",
   "id": "253ed9a9",
   "metadata": {},
   "source": [
    "### Checking data set have nan value or not"
   ]
  },
  {
   "cell_type": "code",
   "execution_count": 27,
   "id": "46c21f0d",
   "metadata": {},
   "outputs": [
    {
     "data": {
      "text/plain": [
       "id                                0\n",
       "member_id                         0\n",
       "loan_amnt                         0\n",
       "funded_amnt                       0\n",
       "funded_amnt_inv                   0\n",
       "                              ...  \n",
       "tax_liens                        39\n",
       "tot_hi_cred_lim               39717\n",
       "total_bal_ex_mort             39717\n",
       "total_bc_limit                39717\n",
       "total_il_high_credit_limit    39717\n",
       "Length: 111, dtype: int64"
      ]
     },
     "execution_count": 27,
     "metadata": {},
     "output_type": "execute_result"
    }
   ],
   "source": [
    "df.isnull().sum()"
   ]
  },
  {
   "cell_type": "code",
   "execution_count": 29,
   "id": "5c17ac4b",
   "metadata": {},
   "outputs": [
    {
     "data": {
      "text/plain": [
       "0        True\n",
       "1        True\n",
       "2        True\n",
       "3        True\n",
       "4        True\n",
       "         ... \n",
       "39712    True\n",
       "39713    True\n",
       "39714    True\n",
       "39715    True\n",
       "39716    True\n",
       "Name: num_tl_90g_dpd_24m, Length: 39717, dtype: bool"
      ]
     },
     "execution_count": 29,
     "metadata": {},
     "output_type": "execute_result"
    }
   ],
   "source": [
    "df.num_tl_90g_dpd_24m.isnull()"
   ]
  },
  {
   "cell_type": "markdown",
   "id": "584983b5",
   "metadata": {},
   "source": [
    "### Checking data frame shape"
   ]
  },
  {
   "cell_type": "code",
   "execution_count": 30,
   "id": "cded4620",
   "metadata": {},
   "outputs": [
    {
     "data": {
      "text/plain": [
       "(39717, 111)"
      ]
     },
     "execution_count": 30,
     "metadata": {},
     "output_type": "execute_result"
    }
   ],
   "source": [
    "df.shape"
   ]
  },
  {
   "cell_type": "markdown",
   "id": "118488e7",
   "metadata": {},
   "source": [
    "### We are able to see there is nan values are present in dataframe"
   ]
  },
  {
   "cell_type": "code",
   "execution_count": 31,
   "id": "5fc9262d",
   "metadata": {},
   "outputs": [],
   "source": [
    "null_sum = df.isnull().sum()"
   ]
  },
  {
   "cell_type": "code",
   "execution_count": 32,
   "id": "7d008238",
   "metadata": {},
   "outputs": [
    {
     "data": {
      "image/png": "[encoded data removed]",
      "text/plain": [
       "<Figure size 1440x360 with 1 Axes>"
      ]
     },
     "metadata": {
      "needs_background": "light"
     },
     "output_type": "display_data"
    }
   ],
   "source": [
    "null_sum.plot(kind='hist', bins=50, figsize=(20,5))\n",
    "plt.show()"
   ]
  },
  {
   "cell_type": "code",
   "execution_count": 33,
   "id": "5399bfa0",
   "metadata": {},
   "outputs": [],
   "source": [
    "df_high_null = null_sum.loc[(null_sum.values > 10000) & (null_sum.values < 39717)]"
   ]
  },
  {
   "cell_type": "markdown",
   "id": "6eb74d53",
   "metadata": {},
   "source": [
    "### Dropping Columns having greater than 10000 null values"
   ]
  },
  {
   "cell_type": "code",
   "execution_count": null,
   "id": "66a28ca6",
   "metadata": {},
   "outputs": [],
   "source": []
  },
  {
   "cell_type": "code",
   "execution_count": 34,
   "id": "6b4f4662",
   "metadata": {},
   "outputs": [],
   "source": [
    "df.drop(columns=list(null_sum[null_sum.values > 10000].index), inplace=True)"
   ]
  },
  {
   "cell_type": "code",
   "execution_count": 35,
   "id": "cdb1d061",
   "metadata": {},
   "outputs": [
    {
     "data": {
      "text/plain": [
       "(39717, 53)"
      ]
     },
     "execution_count": 35,
     "metadata": {},
     "output_type": "execute_result"
    }
   ],
   "source": [
    "# df.isnull().sum() # To check how many nan values are present now\n",
    "df.shape"
   ]
  },
  {
   "cell_type": "markdown",
   "id": "e656f622",
   "metadata": {},
   "source": [
    "### Getting unique value"
   ]
  },
  {
   "cell_type": "code",
   "execution_count": 36,
   "id": "8f9e37e5",
   "metadata": {},
   "outputs": [],
   "source": [
    "unique_val = df.nunique()"
   ]
  },
  {
   "cell_type": "code",
   "execution_count": 37,
   "id": "7c612e5f",
   "metadata": {},
   "outputs": [
    {
     "data": {
      "text/plain": [
       "id                            39717\n",
       "member_id                     39717\n",
       "loan_amnt                       885\n",
       "funded_amnt                    1041\n",
       "funded_amnt_inv                8205\n",
       "term                              2\n",
       "int_rate                        371\n",
       "installment                   15383\n",
       "grade                             7\n",
       "sub_grade                        35\n",
       "emp_title                     28820\n",
       "emp_length                       11\n",
       "home_ownership                    5\n",
       "annual_inc                     5318\n",
       "verification_status               3\n",
       "issue_d                          55\n",
       "loan_status                       3\n",
       "pymnt_plan                        1\n",
       "url                           39717\n",
       "purpose                          14\n",
       "title                         19615\n",
       "zip_code                        823\n",
       "addr_state                       50\n",
       "dti                            2868\n",
       "delinq_2yrs                      11\n",
       "earliest_cr_line                526\n",
       "inq_last_6mths                    9\n",
       "open_acc                         40\n",
       "pub_rec                           5\n",
       "revol_bal                     21711\n",
       "revol_util                     1089\n",
       "total_acc                        82\n",
       "initial_list_status               1\n",
       "out_prncp                      1137\n",
       "out_prncp_inv                  1138\n",
       "total_pymnt                   37850\n",
       "total_pymnt_inv               37518\n",
       "total_rec_prncp                7976\n",
       "total_rec_int                 35148\n",
       "total_rec_late_fee             1356\n",
       "recoveries                     4040\n",
       "collection_recovery_fee        2616\n",
       "last_pymnt_d                    101\n",
       "last_pymnt_amnt               34930\n",
       "last_credit_pull_d              106\n",
       "collections_12_mths_ex_med        1\n",
       "policy_code                       1\n",
       "application_type                  1\n",
       "acc_now_delinq                    1\n",
       "chargeoff_within_12_mths          1\n",
       "delinq_amnt                       1\n",
       "pub_rec_bankruptcies              3\n",
       "tax_liens                         1\n",
       "dtype: int64"
      ]
     },
     "execution_count": 37,
     "metadata": {},
     "output_type": "execute_result"
    }
   ],
   "source": [
    "unique_val"
   ]
  },
  {
   "cell_type": "markdown",
   "id": "04ac05c6",
   "metadata": {},
   "source": [
    "### Dropping single value since they will not be effective in analysis"
   ]
  },
  {
   "cell_type": "code",
   "execution_count": 38,
   "id": "d2a62290",
   "metadata": {},
   "outputs": [
    {
     "data": {
      "text/plain": [
       "pymnt_plan                    1\n",
       "initial_list_status           1\n",
       "collections_12_mths_ex_med    1\n",
       "policy_code                   1\n",
       "application_type              1\n",
       "acc_now_delinq                1\n",
       "chargeoff_within_12_mths      1\n",
       "delinq_amnt                   1\n",
       "tax_liens                     1\n",
       "dtype: int64"
      ]
     },
     "execution_count": 38,
     "metadata": {},
     "output_type": "execute_result"
    }
   ],
   "source": [
    "single_value = unique_val[unique_val.values == 1]\n",
    "single_value"
   ]
  },
  {
   "cell_type": "markdown",
   "id": "19d4c038",
   "metadata": {},
   "source": [
    "### Above columns are with single value"
   ]
  },
  {
   "cell_type": "code",
   "execution_count": 39,
   "id": "1af36b1f",
   "metadata": {},
   "outputs": [],
   "source": [
    "df.drop(columns = list(single_value.index), inplace = True)"
   ]
  },
  {
   "cell_type": "code",
   "execution_count": 40,
   "id": "b9343262",
   "metadata": {},
   "outputs": [
    {
     "data": {
      "text/plain": [
       "(39717, 44)"
      ]
     },
     "execution_count": 40,
     "metadata": {},
     "output_type": "execute_result"
    }
   ],
   "source": [
    "df.shape"
   ]
  },
  {
   "cell_type": "markdown",
   "id": "4a91cc45",
   "metadata": {},
   "source": [
    "### Removing those columns which are not useful for analysis"
   ]
  },
  {
   "cell_type": "code",
   "execution_count": 41,
   "id": "510e571d",
   "metadata": {},
   "outputs": [],
   "source": [
    "delete_cols = [\n",
    "    \"id\", \"member_id\", \"out_prncp\", \"out_prncp_inv\", \"total_rec_prncp\",\n",
    "    \"total_rec_prncp\", \"total_rec_int\", \"total_rec_late_fee\", \"recoveries\", \"collection_recovery_fee\",\n",
    "    \"last_pymnt_d\", \"last_credit_pull_d\", \"total_pymnt\", \"last_pymnt_amnt\", \"url\", \"zip_code\", \"emp_title\"\n",
    "]\n",
    "\n",
    "df.drop(columns = delete_cols, inplace=True) # dropping unnecessary columns"
   ]
  },
  {
   "cell_type": "code",
   "execution_count": 42,
   "id": "dcba32ff",
   "metadata": {},
   "outputs": [
    {
     "data": {
      "text/plain": [
       "(39717, 28)"
      ]
     },
     "execution_count": 42,
     "metadata": {},
     "output_type": "execute_result"
    }
   ],
   "source": [
    "df.shape # checking shape after deleting columns"
   ]
  },
  {
   "cell_type": "code",
   "execution_count": 43,
   "id": "e9dca6c5",
   "metadata": {},
   "outputs": [
    {
     "data": {
      "text/html": [
       "<div>\n",
       "<style scoped>\n",
       "    .dataframe tbody tr th:only-of-type {\n",
       "        vertical-align: middle;\n",
       "    }\n",
       "\n",
       "    .dataframe tbody tr th {\n",
       "        vertical-align: top;\n",
       "    }\n",
       "\n",
       "    .dataframe thead th {\n",
       "        text-align: right;\n",
       "    }\n",
       "</style>\n",
       "<table border=\"1\" class=\"dataframe\">\n",
       "  <thead>\n",
       "    <tr style=\"text-align: right;\">\n",
       "      <th></th>\n",
       "      <th>loan_amnt</th>\n",
       "      <th>funded_amnt</th>\n",
       "      <th>funded_amnt_inv</th>\n",
       "      <th>installment</th>\n",
       "      <th>annual_inc</th>\n",
       "      <th>dti</th>\n",
       "      <th>delinq_2yrs</th>\n",
       "      <th>inq_last_6mths</th>\n",
       "      <th>open_acc</th>\n",
       "      <th>pub_rec</th>\n",
       "      <th>revol_bal</th>\n",
       "      <th>total_acc</th>\n",
       "      <th>total_pymnt_inv</th>\n",
       "      <th>pub_rec_bankruptcies</th>\n",
       "    </tr>\n",
       "  </thead>\n",
       "  <tbody>\n",
       "    <tr>\n",
       "      <th>count</th>\n",
       "      <td>39717.000000</td>\n",
       "      <td>39717.000000</td>\n",
       "      <td>39717.000000</td>\n",
       "      <td>39717.000000</td>\n",
       "      <td>3.971700e+04</td>\n",
       "      <td>39717.000000</td>\n",
       "      <td>39717.000000</td>\n",
       "      <td>39717.000000</td>\n",
       "      <td>39717.000000</td>\n",
       "      <td>39717.000000</td>\n",
       "      <td>39717.000000</td>\n",
       "      <td>39717.000000</td>\n",
       "      <td>39717.000000</td>\n",
       "      <td>39020.000000</td>\n",
       "    </tr>\n",
       "    <tr>\n",
       "      <th>mean</th>\n",
       "      <td>11219.443815</td>\n",
       "      <td>10947.713196</td>\n",
       "      <td>10397.448868</td>\n",
       "      <td>324.561922</td>\n",
       "      <td>6.896893e+04</td>\n",
       "      <td>13.315130</td>\n",
       "      <td>0.146512</td>\n",
       "      <td>0.869200</td>\n",
       "      <td>9.294408</td>\n",
       "      <td>0.055065</td>\n",
       "      <td>13382.528086</td>\n",
       "      <td>22.088828</td>\n",
       "      <td>11567.149118</td>\n",
       "      <td>0.043260</td>\n",
       "    </tr>\n",
       "    <tr>\n",
       "      <th>std</th>\n",
       "      <td>7456.670694</td>\n",
       "      <td>7187.238670</td>\n",
       "      <td>7128.450439</td>\n",
       "      <td>208.874874</td>\n",
       "      <td>6.379377e+04</td>\n",
       "      <td>6.678594</td>\n",
       "      <td>0.491812</td>\n",
       "      <td>1.070219</td>\n",
       "      <td>4.400282</td>\n",
       "      <td>0.237200</td>\n",
       "      <td>15885.016641</td>\n",
       "      <td>11.401709</td>\n",
       "      <td>8942.672613</td>\n",
       "      <td>0.204324</td>\n",
       "    </tr>\n",
       "    <tr>\n",
       "      <th>min</th>\n",
       "      <td>500.000000</td>\n",
       "      <td>500.000000</td>\n",
       "      <td>0.000000</td>\n",
       "      <td>15.690000</td>\n",
       "      <td>4.000000e+03</td>\n",
       "      <td>0.000000</td>\n",
       "      <td>0.000000</td>\n",
       "      <td>0.000000</td>\n",
       "      <td>2.000000</td>\n",
       "      <td>0.000000</td>\n",
       "      <td>0.000000</td>\n",
       "      <td>2.000000</td>\n",
       "      <td>0.000000</td>\n",
       "      <td>0.000000</td>\n",
       "    </tr>\n",
       "    <tr>\n",
       "      <th>25%</th>\n",
       "      <td>5500.000000</td>\n",
       "      <td>5400.000000</td>\n",
       "      <td>5000.000000</td>\n",
       "      <td>167.020000</td>\n",
       "      <td>4.040400e+04</td>\n",
       "      <td>8.170000</td>\n",
       "      <td>0.000000</td>\n",
       "      <td>0.000000</td>\n",
       "      <td>6.000000</td>\n",
       "      <td>0.000000</td>\n",
       "      <td>3703.000000</td>\n",
       "      <td>13.000000</td>\n",
       "      <td>5112.310000</td>\n",
       "      <td>0.000000</td>\n",
       "    </tr>\n",
       "    <tr>\n",
       "      <th>50%</th>\n",
       "      <td>10000.000000</td>\n",
       "      <td>9600.000000</td>\n",
       "      <td>8975.000000</td>\n",
       "      <td>280.220000</td>\n",
       "      <td>5.900000e+04</td>\n",
       "      <td>13.400000</td>\n",
       "      <td>0.000000</td>\n",
       "      <td>1.000000</td>\n",
       "      <td>9.000000</td>\n",
       "      <td>0.000000</td>\n",
       "      <td>8850.000000</td>\n",
       "      <td>20.000000</td>\n",
       "      <td>9287.150000</td>\n",
       "      <td>0.000000</td>\n",
       "    </tr>\n",
       "    <tr>\n",
       "      <th>75%</th>\n",
       "      <td>15000.000000</td>\n",
       "      <td>15000.000000</td>\n",
       "      <td>14400.000000</td>\n",
       "      <td>430.780000</td>\n",
       "      <td>8.230000e+04</td>\n",
       "      <td>18.600000</td>\n",
       "      <td>0.000000</td>\n",
       "      <td>1.000000</td>\n",
       "      <td>12.000000</td>\n",
       "      <td>0.000000</td>\n",
       "      <td>17058.000000</td>\n",
       "      <td>29.000000</td>\n",
       "      <td>15798.810000</td>\n",
       "      <td>0.000000</td>\n",
       "    </tr>\n",
       "    <tr>\n",
       "      <th>max</th>\n",
       "      <td>35000.000000</td>\n",
       "      <td>35000.000000</td>\n",
       "      <td>35000.000000</td>\n",
       "      <td>1305.190000</td>\n",
       "      <td>6.000000e+06</td>\n",
       "      <td>29.990000</td>\n",
       "      <td>11.000000</td>\n",
       "      <td>8.000000</td>\n",
       "      <td>44.000000</td>\n",
       "      <td>4.000000</td>\n",
       "      <td>149588.000000</td>\n",
       "      <td>90.000000</td>\n",
       "      <td>58563.680000</td>\n",
       "      <td>2.000000</td>\n",
       "    </tr>\n",
       "  </tbody>\n",
       "</table>\n",
       "</div>"
      ],
      "text/plain": [
       "          loan_amnt   funded_amnt  funded_amnt_inv   installment  \\\n",
       "count  39717.000000  39717.000000     39717.000000  39717.000000   \n",
       "mean   11219.443815  10947.713196     10397.448868    324.561922   \n",
       "std     7456.670694   7187.238670      7128.450439    208.874874   \n",
       "min      500.000000    500.000000         0.000000     15.690000   \n",
       "25%     5500.000000   5400.000000      5000.000000    167.020000   \n",
       "50%    10000.000000   9600.000000      8975.000000    280.220000   \n",
       "75%    15000.000000  15000.000000     14400.000000    430.780000   \n",
       "max    35000.000000  35000.000000     35000.000000   1305.190000   \n",
       "\n",
       "         annual_inc           dti   delinq_2yrs  inq_last_6mths      open_acc  \\\n",
       "count  3.971700e+04  39717.000000  39717.000000    39717.000000  39717.000000   \n",
       "mean   6.896893e+04     13.315130      0.146512        0.869200      9.294408   \n",
       "std    6.379377e+04      6.678594      0.491812        1.070219      4.400282   \n",
       "min    4.000000e+03      0.000000      0.000000        0.000000      2.000000   \n",
       "25%    4.040400e+04      8.170000      0.000000        0.000000      6.000000   \n",
       "50%    5.900000e+04     13.400000      0.000000        1.000000      9.000000   \n",
       "75%    8.230000e+04     18.600000      0.000000        1.000000     12.000000   \n",
       "max    6.000000e+06     29.990000     11.000000        8.000000     44.000000   \n",
       "\n",
       "            pub_rec      revol_bal     total_acc  total_pymnt_inv  \\\n",
       "count  39717.000000   39717.000000  39717.000000     39717.000000   \n",
       "mean       0.055065   13382.528086     22.088828     11567.149118   \n",
       "std        0.237200   15885.016641     11.401709      8942.672613   \n",
       "min        0.000000       0.000000      2.000000         0.000000   \n",
       "25%        0.000000    3703.000000     13.000000      5112.310000   \n",
       "50%        0.000000    8850.000000     20.000000      9287.150000   \n",
       "75%        0.000000   17058.000000     29.000000     15798.810000   \n",
       "max        4.000000  149588.000000     90.000000     58563.680000   \n",
       "\n",
       "       pub_rec_bankruptcies  \n",
       "count          39020.000000  \n",
       "mean               0.043260  \n",
       "std                0.204324  \n",
       "min                0.000000  \n",
       "25%                0.000000  \n",
       "50%                0.000000  \n",
       "75%                0.000000  \n",
       "max                2.000000  "
      ]
     },
     "execution_count": 43,
     "metadata": {},
     "output_type": "execute_result"
    }
   ],
   "source": [
    "df.describe()"
   ]
  },
  {
   "cell_type": "markdown",
   "id": "56853be6",
   "metadata": {},
   "source": [
    "## Starting Data Analysis "
   ]
  },
  {
   "cell_type": "code",
   "execution_count": 44,
   "id": "1f7d8ecb",
   "metadata": {},
   "outputs": [
    {
     "data": {
      "text/plain": [
       "Fully Paid     32950\n",
       "Charged Off     5627\n",
       "Current         1140\n",
       "Name: loan_status, dtype: int64"
      ]
     },
     "execution_count": 44,
     "metadata": {},
     "output_type": "execute_result"
    }
   ],
   "source": [
    "df.loan_status.value_counts() # checking how many types of status is present"
   ]
  },
  {
   "cell_type": "markdown",
   "id": "7694eace",
   "metadata": {},
   "source": [
    "### Current --> stands for those customer, their emi is going on.\n",
    "#### So for our analysis we do not need 'Current' data."
   ]
  },
  {
   "cell_type": "code",
   "execution_count": 45,
   "id": "8503abaa",
   "metadata": {},
   "outputs": [],
   "source": [
    "df = df[~(df.loan_status == 'Current')] # removing data which have 'Current' as loan status"
   ]
  },
  {
   "cell_type": "code",
   "execution_count": 46,
   "id": "e568464a",
   "metadata": {},
   "outputs": [
    {
     "data": {
      "text/plain": [
       "Fully Paid     32950\n",
       "Charged Off     5627\n",
       "Name: loan_status, dtype: int64"
      ]
     },
     "execution_count": 46,
     "metadata": {},
     "output_type": "execute_result"
    }
   ],
   "source": [
    "df.loan_status.value_counts() # As we can see 'Current' status is removed"
   ]
  },
  {
   "cell_type": "code",
   "execution_count": 47,
   "id": "96ba1dbb",
   "metadata": {},
   "outputs": [
    {
     "data": {
      "text/plain": [
       "loan_amnt               0.000000\n",
       "funded_amnt             0.000000\n",
       "funded_amnt_inv         0.000000\n",
       "term                    0.000000\n",
       "int_rate                0.000000\n",
       "installment             0.000000\n",
       "grade                   0.000000\n",
       "sub_grade               0.000000\n",
       "emp_length              2.677761\n",
       "home_ownership          0.000000\n",
       "annual_inc              0.000000\n",
       "verification_status     0.000000\n",
       "issue_d                 0.000000\n",
       "loan_status             0.000000\n",
       "purpose                 0.000000\n",
       "title                   0.028514\n",
       "addr_state              0.000000\n",
       "dti                     0.000000\n",
       "delinq_2yrs             0.000000\n",
       "earliest_cr_line        0.000000\n",
       "inq_last_6mths          0.000000\n",
       "open_acc                0.000000\n",
       "pub_rec                 0.000000\n",
       "revol_bal               0.000000\n",
       "revol_util              0.129611\n",
       "total_acc               0.000000\n",
       "total_pymnt_inv         0.000000\n",
       "pub_rec_bankruptcies    1.806776\n",
       "dtype: float64"
      ]
     },
     "execution_count": 47,
     "metadata": {},
     "output_type": "execute_result"
    }
   ],
   "source": [
    "### Checking missing values\n",
    "(df.isna().sum()/len(df.index))*100"
   ]
  },
  {
   "cell_type": "code",
   "execution_count": null,
   "id": "a60e12e0",
   "metadata": {},
   "outputs": [],
   "source": [
    "### As can be seen, Columns with missing values are"
   ]
  },
  {
   "cell_type": "code",
   "execution_count": 49,
   "id": "9f25c862",
   "metadata": {},
   "outputs": [
    {
     "name": "stdout",
     "output_type": "stream",
     "text": [
      "<class 'pandas.core.frame.DataFrame'>\n",
      "Int64Index: 38577 entries, 0 to 39716\n",
      "Data columns (total 28 columns):\n",
      " #   Column                Non-Null Count  Dtype  \n",
      "---  ------                --------------  -----  \n",
      " 0   loan_amnt             38577 non-null  int64  \n",
      " 1   funded_amnt           38577 non-null  int64  \n",
      " 2   funded_amnt_inv       38577 non-null  float64\n",
      " 3   term                  38577 non-null  object \n",
      " 4   int_rate              38577 non-null  object \n",
      " 5   installment           38577 non-null  float64\n",
      " 6   grade                 38577 non-null  object \n",
      " 7   sub_grade             38577 non-null  object \n",
      " 8   emp_length            37544 non-null  object \n",
      " 9   home_ownership        38577 non-null  object \n",
      " 10  annual_inc            38577 non-null  float64\n",
      " 11  verification_status   38577 non-null  object \n",
      " 12  issue_d               38577 non-null  object \n",
      " 13  loan_status           38577 non-null  object \n",
      " 14  purpose               38577 non-null  object \n",
      " 15  title                 38566 non-null  object \n",
      " 16  addr_state            38577 non-null  object \n",
      " 17  dti                   38577 non-null  float64\n",
      " 18  delinq_2yrs           38577 non-null  int64  \n",
      " 19  earliest_cr_line      38577 non-null  object \n",
      " 20  inq_last_6mths        38577 non-null  int64  \n",
      " 21  open_acc              38577 non-null  int64  \n",
      " 22  pub_rec               38577 non-null  int64  \n",
      " 23  revol_bal             38577 non-null  int64  \n",
      " 24  revol_util            38527 non-null  object \n",
      " 25  total_acc             38577 non-null  int64  \n",
      " 26  total_pymnt_inv       38577 non-null  float64\n",
      " 27  pub_rec_bankruptcies  37880 non-null  float64\n",
      "dtypes: float64(6), int64(8), object(14)\n",
      "memory usage: 8.5+ MB\n"
     ]
    }
   ],
   "source": [
    "df.info()"
   ]
  },
  {
   "cell_type": "code",
   "execution_count": 51,
   "id": "49f5f4e0",
   "metadata": {},
   "outputs": [
    {
     "name": "stdout",
     "output_type": "stream",
     "text": [
      "Mode : 10+ years\n"
     ]
    },
    {
     "data": {
      "text/plain": [
       "10+ years    8488\n",
       "< 1 year     4508\n",
       "2 years      4291\n",
       "3 years      4012\n",
       "4 years      3342\n",
       "5 years      3194\n",
       "1 year       3169\n",
       "6 years      2168\n",
       "7 years      1711\n",
       "8 years      1435\n",
       "9 years      1226\n",
       "Name: emp_length, dtype: int64"
      ]
     },
     "execution_count": 51,
     "metadata": {},
     "output_type": "execute_result"
    }
   ],
   "source": [
    "print(\"Mode : \" + df.emp_length.mode()[0])\n",
    "df.emp_length.value_counts()"
   ]
  },
  {
   "cell_type": "code",
   "execution_count": null,
   "id": "8504a68b",
   "metadata": {},
   "outputs": [],
   "source": [
    "### Mode value has far higher frequency than that of next highest frequency which means we can safely assign the value of mode\n",
    "### to the null value in the column. also the missing values are in very low percentage, So imputing with mode doesnt affect \n",
    "### analysis much."
   ]
  },
  {
   "cell_type": "code",
   "execution_count": 52,
   "id": "3db26c6c",
   "metadata": {},
   "outputs": [
    {
     "data": {
      "text/plain": [
       "0"
      ]
     },
     "execution_count": 52,
     "metadata": {},
     "output_type": "execute_result"
    }
   ],
   "source": [
    "df.emp_length.fillna(df.emp_length.mode()[0], inplace = True)\n",
    "df.emp_length.isna().sum()"
   ]
  },
  {
   "cell_type": "code",
   "execution_count": null,
   "id": "b33623a1",
   "metadata": {},
   "outputs": [],
   "source": []
  },
  {
   "cell_type": "code",
   "execution_count": null,
   "id": "05229404",
   "metadata": {},
   "outputs": [],
   "source": [
    "## Standardising the data \n",
    "### \"emp_length\" --> (< 1 year) is assumed as 0 and 10+ years is assumed as 10 "
   ]
  },
  {
   "cell_type": "code",
   "execution_count": 53,
   "id": "4a6a3aff",
   "metadata": {},
   "outputs": [],
   "source": [
    "df.emp_length = pd.to_numeric(df.emp_length.apply(lambda x: 0 if \"<\" in x else (x.split('+')[0] if \"+\" in x else x.split()[0])))"
   ]
  },
  {
   "cell_type": "code",
   "execution_count": null,
   "id": "b13dd274",
   "metadata": {},
   "outputs": [],
   "source": [
    "## Now lets check if annual income has any outliers by boxplot treatment"
   ]
  },
  {
   "cell_type": "code",
   "execution_count": 54,
   "id": "8623b7f3",
   "metadata": {},
   "outputs": [
    {
     "name": "stderr",
     "output_type": "stream",
     "text": [
      "c:\\users\\ankita\\appdata\\local\\programs\\python\\python39\\lib\\site-packages\\seaborn\\_decorators.py:36: FutureWarning: Pass the following variable as a keyword arg: x. From version 0.12, the only valid positional argument will be `data`, and passing other arguments without an explicit keyword will result in an error or misinterpretation.\n",
      "  warnings.warn(\n"
     ]
    },
    {
     "data": {
      "text/plain": [
       "<AxesSubplot:xlabel='annual_inc'>"
      ]
     },
     "execution_count": 54,
     "metadata": {},
     "output_type": "execute_result"
    },
    {
     "data": {
      "image/png": "[encoded data removed]",
      "text/plain": [
       "<Figure size 432x288 with 1 Axes>"
      ]
     },
     "metadata": {
      "needs_background": "light"
     },
     "output_type": "display_data"
    }
   ],
   "source": [
    "sns.boxplot(df['annual_inc'])"
   ]
  },
  {
   "cell_type": "code",
   "execution_count": 55,
   "id": "f624902f",
   "metadata": {},
   "outputs": [
    {
     "data": {
      "text/plain": [
       "count    3.857700e+04\n",
       "mean     6.877797e+04\n",
       "std      6.421868e+04\n",
       "min      4.000000e+03\n",
       "25%      4.000000e+04\n",
       "50%      5.886800e+04\n",
       "75%      8.200000e+04\n",
       "max      6.000000e+06\n",
       "Name: annual_inc, dtype: float64"
      ]
     },
     "execution_count": 55,
     "metadata": {},
     "output_type": "execute_result"
    }
   ],
   "source": [
    "df.annual_inc.describe()"
   ]
  },
  {
   "cell_type": "code",
   "execution_count": 58,
   "id": "c775a862",
   "metadata": {},
   "outputs": [
    {
     "data": {
      "text/plain": [
       "0.50     58868.0\n",
       "0.75     82000.0\n",
       "0.90    115000.0\n",
       "0.95    140004.0\n",
       "0.97    165000.0\n",
       "0.98    187000.0\n",
       "0.99    234144.0\n",
       "Name: annual_inc, dtype: float64"
      ]
     },
     "execution_count": 58,
     "metadata": {},
     "output_type": "execute_result"
    }
   ],
   "source": [
    "quantile_data = df.annual_inc.quantile([0.5, 0.75,0.90, 0.95, 0.97,0.98, 0.99])\n",
    "quantile_data"
   ]
  },
  {
   "cell_type": "raw",
   "id": "b09c0685",
   "metadata": {},
   "source": []
  },
  {
   "cell_type": "code",
   "execution_count": 59,
   "id": "014fdb26",
   "metadata": {},
   "outputs": [],
   "source": [
    "### The value after 95 percentile seems to be disconnected from the general distribution\n",
    "### and also there is huge increase in the value for small quantile variation \n",
    "per_95_annual_inc = df['annual_inc'].quantile(0.95)\n",
    "loan_data = df[df.annual_inc <= per_95_annual_inc]"
   ]
  },
  {
   "cell_type": "code",
   "execution_count": 60,
   "id": "d0698294",
   "metadata": {
    "scrolled": true
   },
   "outputs": [
    {
     "name": "stderr",
     "output_type": "stream",
     "text": [
      "c:\\users\\ankita\\appdata\\local\\programs\\python\\python39\\lib\\site-packages\\seaborn\\_decorators.py:36: FutureWarning: Pass the following variable as a keyword arg: x. From version 0.12, the only valid positional argument will be `data`, and passing other arguments without an explicit keyword will result in an error or misinterpretation.\n",
      "  warnings.warn(\n"
     ]
    },
    {
     "data": {
      "text/plain": [
       "<AxesSubplot:xlabel='annual_inc'>"
      ]
     },
     "execution_count": 60,
     "metadata": {},
     "output_type": "execute_result"
    },
    {
     "data": {
      "image/png": "[encoded data removed]",
      "text/plain": [
       "<Figure size 432x288 with 1 Axes>"
      ]
     },
     "metadata": {
      "needs_background": "light"
     },
     "output_type": "display_data"
    }
   ],
   "source": [
    "sns.boxplot(loan_data.annual_inc)"
   ]
  },
  {
   "cell_type": "code",
   "execution_count": null,
   "id": "cf504a77",
   "metadata": {},
   "outputs": [],
   "source": []
  },
  {
   "cell_type": "code",
   "execution_count": null,
   "id": "3c41c1ac",
   "metadata": {},
   "outputs": [],
   "source": []
  },
  {
   "cell_type": "markdown",
   "id": "09bbac98",
   "metadata": {},
   "source": [
    "### Now we analysising another columns"
   ]
  },
  {
   "cell_type": "markdown",
   "id": "1a946646",
   "metadata": {},
   "source": [
    "### 'int_rate' column has percentage (%) symbol in field. So for calculation we have to remove."
   ]
  },
  {
   "cell_type": "code",
   "execution_count": 22,
   "id": "fb103cf8",
   "metadata": {},
   "outputs": [
    {
     "data": {
      "text/plain": [
       "count    38577.000000\n",
       "mean        11.932219\n",
       "std          3.691327\n",
       "min          5.420000\n",
       "25%          8.940000\n",
       "50%         11.710000\n",
       "75%         14.380000\n",
       "max         24.400000\n",
       "Name: int_rate, dtype: float64"
      ]
     },
     "execution_count": 22,
     "metadata": {},
     "output_type": "execute_result"
    }
   ],
   "source": [
    "df.int_rate = df['int_rate'].apply(lambda x: float(x.split('%')[0]))\n",
    "df.int_rate.describe()"
   ]
  },
  {
   "cell_type": "markdown",
   "id": "30eafa06",
   "metadata": {},
   "source": [
    "### checking outliers in 'int_rate' by box plot"
   ]
  },
  {
   "cell_type": "code",
   "execution_count": 23,
   "id": "6849908e",
   "metadata": {
    "scrolled": true
   },
   "outputs": [
    {
     "data": {
      "image/png": "[encoded data removed]",
      "text/plain": [
       "<Figure size 432x288 with 1 Axes>"
      ]
     },
     "metadata": {
      "needs_background": "light"
     },
     "output_type": "display_data"
    }
   ],
   "source": [
    "df.int_rate.plot.box()\n",
    "plt.show()"
   ]
  },
  {
   "cell_type": "markdown",
   "id": "fde072a2",
   "metadata": {},
   "source": [
    "### ---> As we can see above chart outliers in 'int_rate' we ll ananlysis in univariate analysis <----"
   ]
  },
  {
   "cell_type": "markdown",
   "id": "eaf26f22",
   "metadata": {},
   "source": [
    "### 'term' in data set is stands for --\n",
    "#### The number of payments on the loan. Values are in months and can be either 36 or 60."
   ]
  },
  {
   "cell_type": "code",
   "execution_count": 24,
   "id": "4e70abe4",
   "metadata": {},
   "outputs": [
    {
     "data": {
      "text/plain": [
       " 36 months    29096\n",
       " 60 months     9481\n",
       "Name: term, dtype: int64"
      ]
     },
     "execution_count": 24,
     "metadata": {},
     "output_type": "execute_result"
    }
   ],
   "source": [
    "df.term.value_counts()"
   ]
  },
  {
   "cell_type": "markdown",
   "id": "172546fe",
   "metadata": {},
   "source": [
    "### Analysis for 'grade' -"
   ]
  },
  {
   "cell_type": "code",
   "execution_count": 25,
   "id": "a1850915",
   "metadata": {},
   "outputs": [
    {
     "data": {
      "text/plain": [
       "B    11675\n",
       "A    10045\n",
       "C     7834\n",
       "D     5085\n",
       "E     2663\n",
       "F      976\n",
       "G      299\n",
       "Name: grade, dtype: int64"
      ]
     },
     "execution_count": 25,
     "metadata": {},
     "output_type": "execute_result"
    }
   ],
   "source": [
    "df.grade.value_counts()"
   ]
  },
  {
   "cell_type": "code",
   "execution_count": 26,
   "id": "f6cb066c",
   "metadata": {},
   "outputs": [
    {
     "data": {
      "text/plain": [
       "0    Dec-11\n",
       "1    Dec-11\n",
       "2    Dec-11\n",
       "3    Dec-11\n",
       "5    Dec-11\n",
       "Name: issue_d, dtype: object"
      ]
     },
     "execution_count": 26,
     "metadata": {},
     "output_type": "execute_result"
    }
   ],
   "source": [
    "df.issue_d.head()"
   ]
  },
  {
   "cell_type": "markdown",
   "id": "2719f13f",
   "metadata": {},
   "source": [
    "### As we can see month and year is concatenated by '-'.\n",
    "### We need to find month and year for our analysis"
   ]
  },
  {
   "cell_type": "code",
   "execution_count": 27,
   "id": "ed9160a9",
   "metadata": {},
   "outputs": [
    {
     "name": "stderr",
     "output_type": "stream",
     "text": [
      "C:\\Users\\ANKITA\\AppData\\Local\\Temp\\ipykernel_22188\\3973896583.py:1: FutureWarning: Columnar iteration over characters will be deprecated in future releases.\n",
      "  month,year = df.issue_d.str.split('-').str\n"
     ]
    }
   ],
   "source": [
    "month,year = df.issue_d.str.split('-').str"
   ]
  },
  {
   "cell_type": "code",
   "execution_count": 28,
   "id": "ecb5c5fe",
   "metadata": {},
   "outputs": [
    {
     "data": {
      "text/plain": [
       "Dec    4215\n",
       "Nov    4006\n",
       "Oct    3761\n",
       "Sep    3498\n",
       "Aug    3388\n",
       "Jul    3351\n",
       "Jun    3180\n",
       "May    2919\n",
       "Apr    2831\n",
       "Mar    2691\n",
       "Jan    2379\n",
       "Feb    2358\n",
       "Name: issue_d, dtype: int64"
      ]
     },
     "execution_count": 28,
     "metadata": {},
     "output_type": "execute_result"
    }
   ],
   "source": [
    "month.value_counts()"
   ]
  },
  {
   "cell_type": "code",
   "execution_count": 29,
   "id": "30bfdc49",
   "metadata": {},
   "outputs": [
    {
     "data": {
      "text/plain": [
       "11    20516\n",
       "10    11532\n",
       "09     4716\n",
       "08     1562\n",
       "07      251\n",
       "Name: issue_d, dtype: int64"
      ]
     },
     "execution_count": 29,
     "metadata": {},
     "output_type": "execute_result"
    }
   ],
   "source": [
    "year.value_counts()"
   ]
  },
  {
   "cell_type": "code",
   "execution_count": 30,
   "id": "c44674e0",
   "metadata": {},
   "outputs": [
    {
     "name": "stderr",
     "output_type": "stream",
     "text": [
      "C:\\Users\\ANKITA\\AppData\\Local\\Temp\\ipykernel_22188\\1212786523.py:1: UserWarning: Pandas doesn't allow columns to be created via a new attribute name - see https://pandas.pydata.org/pandas-docs/stable/indexing.html#attribute-access\n",
      "  df.issue_m = month # saving month in new column\n",
      "C:\\Users\\ANKITA\\AppData\\Local\\Temp\\ipykernel_22188\\1212786523.py:2: UserWarning: Pandas doesn't allow columns to be created via a new attribute name - see https://pandas.pydata.org/pandas-docs/stable/indexing.html#attribute-access\n",
      "  df.issue_y = pd.to_numeric(year) # saving year in new column\n"
     ]
    }
   ],
   "source": [
    "df.issue_m = month # saving month in new column\n",
    "df.issue_y = pd.to_numeric(year) # saving year in new column"
   ]
  },
  {
   "cell_type": "markdown",
   "id": "d06532f9",
   "metadata": {},
   "source": [
    "### Now we can drop issue_d."
   ]
  },
  {
   "cell_type": "code",
   "execution_count": 31,
   "id": "cb3694e3",
   "metadata": {},
   "outputs": [],
   "source": [
    "df.drop(columns = ['issue_d'], inplace=True)"
   ]
  },
  {
   "cell_type": "code",
   "execution_count": 32,
   "id": "185660c8",
   "metadata": {},
   "outputs": [
    {
     "data": {
      "text/html": [
       "<div>\n",
       "<style scoped>\n",
       "    .dataframe tbody tr th:only-of-type {\n",
       "        vertical-align: middle;\n",
       "    }\n",
       "\n",
       "    .dataframe tbody tr th {\n",
       "        vertical-align: top;\n",
       "    }\n",
       "\n",
       "    .dataframe thead th {\n",
       "        text-align: right;\n",
       "    }\n",
       "</style>\n",
       "<table border=\"1\" class=\"dataframe\">\n",
       "  <thead>\n",
       "    <tr style=\"text-align: right;\">\n",
       "      <th></th>\n",
       "      <th>loan_amnt</th>\n",
       "      <th>funded_amnt</th>\n",
       "      <th>funded_amnt_inv</th>\n",
       "      <th>term</th>\n",
       "      <th>int_rate</th>\n",
       "      <th>installment</th>\n",
       "      <th>grade</th>\n",
       "      <th>sub_grade</th>\n",
       "      <th>emp_title</th>\n",
       "      <th>emp_length</th>\n",
       "      <th>...</th>\n",
       "      <th>delinq_2yrs</th>\n",
       "      <th>earliest_cr_line</th>\n",
       "      <th>inq_last_6mths</th>\n",
       "      <th>open_acc</th>\n",
       "      <th>pub_rec</th>\n",
       "      <th>revol_bal</th>\n",
       "      <th>revol_util</th>\n",
       "      <th>total_acc</th>\n",
       "      <th>total_pymnt_inv</th>\n",
       "      <th>pub_rec_bankruptcies</th>\n",
       "    </tr>\n",
       "  </thead>\n",
       "  <tbody>\n",
       "    <tr>\n",
       "      <th>0</th>\n",
       "      <td>5000</td>\n",
       "      <td>5000</td>\n",
       "      <td>4975.0</td>\n",
       "      <td>36 months</td>\n",
       "      <td>10.65</td>\n",
       "      <td>162.87</td>\n",
       "      <td>B</td>\n",
       "      <td>B2</td>\n",
       "      <td>NaN</td>\n",
       "      <td>10+ years</td>\n",
       "      <td>...</td>\n",
       "      <td>0</td>\n",
       "      <td>Jan-85</td>\n",
       "      <td>1</td>\n",
       "      <td>3</td>\n",
       "      <td>0</td>\n",
       "      <td>13648</td>\n",
       "      <td>83.70%</td>\n",
       "      <td>9</td>\n",
       "      <td>5833.84</td>\n",
       "      <td>0.0</td>\n",
       "    </tr>\n",
       "    <tr>\n",
       "      <th>1</th>\n",
       "      <td>2500</td>\n",
       "      <td>2500</td>\n",
       "      <td>2500.0</td>\n",
       "      <td>60 months</td>\n",
       "      <td>15.27</td>\n",
       "      <td>59.83</td>\n",
       "      <td>C</td>\n",
       "      <td>C4</td>\n",
       "      <td>Ryder</td>\n",
       "      <td>&lt; 1 year</td>\n",
       "      <td>...</td>\n",
       "      <td>0</td>\n",
       "      <td>Apr-99</td>\n",
       "      <td>5</td>\n",
       "      <td>3</td>\n",
       "      <td>0</td>\n",
       "      <td>1687</td>\n",
       "      <td>9.40%</td>\n",
       "      <td>4</td>\n",
       "      <td>1008.71</td>\n",
       "      <td>0.0</td>\n",
       "    </tr>\n",
       "    <tr>\n",
       "      <th>2</th>\n",
       "      <td>2400</td>\n",
       "      <td>2400</td>\n",
       "      <td>2400.0</td>\n",
       "      <td>36 months</td>\n",
       "      <td>15.96</td>\n",
       "      <td>84.33</td>\n",
       "      <td>C</td>\n",
       "      <td>C5</td>\n",
       "      <td>NaN</td>\n",
       "      <td>10+ years</td>\n",
       "      <td>...</td>\n",
       "      <td>0</td>\n",
       "      <td>Nov-01</td>\n",
       "      <td>2</td>\n",
       "      <td>2</td>\n",
       "      <td>0</td>\n",
       "      <td>2956</td>\n",
       "      <td>98.50%</td>\n",
       "      <td>10</td>\n",
       "      <td>3005.67</td>\n",
       "      <td>0.0</td>\n",
       "    </tr>\n",
       "    <tr>\n",
       "      <th>3</th>\n",
       "      <td>10000</td>\n",
       "      <td>10000</td>\n",
       "      <td>10000.0</td>\n",
       "      <td>36 months</td>\n",
       "      <td>13.49</td>\n",
       "      <td>339.31</td>\n",
       "      <td>C</td>\n",
       "      <td>C1</td>\n",
       "      <td>AIR RESOURCES BOARD</td>\n",
       "      <td>10+ years</td>\n",
       "      <td>...</td>\n",
       "      <td>0</td>\n",
       "      <td>Feb-96</td>\n",
       "      <td>1</td>\n",
       "      <td>10</td>\n",
       "      <td>0</td>\n",
       "      <td>5598</td>\n",
       "      <td>21%</td>\n",
       "      <td>37</td>\n",
       "      <td>12231.89</td>\n",
       "      <td>0.0</td>\n",
       "    </tr>\n",
       "    <tr>\n",
       "      <th>5</th>\n",
       "      <td>5000</td>\n",
       "      <td>5000</td>\n",
       "      <td>5000.0</td>\n",
       "      <td>36 months</td>\n",
       "      <td>7.90</td>\n",
       "      <td>156.46</td>\n",
       "      <td>A</td>\n",
       "      <td>A4</td>\n",
       "      <td>Veolia Transportaton</td>\n",
       "      <td>3 years</td>\n",
       "      <td>...</td>\n",
       "      <td>0</td>\n",
       "      <td>Nov-04</td>\n",
       "      <td>3</td>\n",
       "      <td>9</td>\n",
       "      <td>0</td>\n",
       "      <td>7963</td>\n",
       "      <td>28.30%</td>\n",
       "      <td>12</td>\n",
       "      <td>5632.21</td>\n",
       "      <td>0.0</td>\n",
       "    </tr>\n",
       "  </tbody>\n",
       "</table>\n",
       "<p>5 rows × 28 columns</p>\n",
       "</div>"
      ],
      "text/plain": [
       "   loan_amnt  funded_amnt  funded_amnt_inv        term  int_rate  installment  \\\n",
       "0       5000         5000           4975.0   36 months     10.65       162.87   \n",
       "1       2500         2500           2500.0   60 months     15.27        59.83   \n",
       "2       2400         2400           2400.0   36 months     15.96        84.33   \n",
       "3      10000        10000          10000.0   36 months     13.49       339.31   \n",
       "5       5000         5000           5000.0   36 months      7.90       156.46   \n",
       "\n",
       "  grade sub_grade             emp_title emp_length  ... delinq_2yrs  \\\n",
       "0     B        B2                   NaN  10+ years  ...           0   \n",
       "1     C        C4                 Ryder   < 1 year  ...           0   \n",
       "2     C        C5                   NaN  10+ years  ...           0   \n",
       "3     C        C1   AIR RESOURCES BOARD  10+ years  ...           0   \n",
       "5     A        A4  Veolia Transportaton    3 years  ...           0   \n",
       "\n",
       "   earliest_cr_line inq_last_6mths open_acc pub_rec revol_bal revol_util  \\\n",
       "0            Jan-85              1        3       0     13648     83.70%   \n",
       "1            Apr-99              5        3       0      1687      9.40%   \n",
       "2            Nov-01              2        2       0      2956     98.50%   \n",
       "3            Feb-96              1       10       0      5598        21%   \n",
       "5            Nov-04              3        9       0      7963     28.30%   \n",
       "\n",
       "   total_acc  total_pymnt_inv pub_rec_bankruptcies  \n",
       "0          9          5833.84                  0.0  \n",
       "1          4          1008.71                  0.0  \n",
       "2         10          3005.67                  0.0  \n",
       "3         37         12231.89                  0.0  \n",
       "5         12          5632.21                  0.0  \n",
       "\n",
       "[5 rows x 28 columns]"
      ]
     },
     "execution_count": 32,
     "metadata": {},
     "output_type": "execute_result"
    }
   ],
   "source": [
    "df.head()"
   ]
  },
  {
   "cell_type": "code",
   "execution_count": 33,
   "id": "c28e3be3",
   "metadata": {},
   "outputs": [
    {
     "data": {
      "text/plain": [
       "US Army              131\n",
       "Bank of America      107\n",
       "IBM                   65\n",
       "AT&T                  57\n",
       "Kaiser Permanente     56\n",
       "Name: emp_title, dtype: int64"
      ]
     },
     "execution_count": 33,
     "metadata": {},
     "output_type": "execute_result"
    }
   ],
   "source": [
    "df.emp_title.value_counts().head()"
   ]
  },
  {
   "cell_type": "code",
   "execution_count": 34,
   "id": "b1e3e8b1",
   "metadata": {},
   "outputs": [
    {
     "name": "stdout",
     "output_type": "stream",
     "text": [
      "19297\n",
      "19297\n"
     ]
    }
   ],
   "source": [
    "print(df.title.nunique())\n",
    "print(len(df.title.value_counts()))"
   ]
  },
  {
   "cell_type": "markdown",
   "id": "2ad08cc0",
   "metadata": {},
   "source": [
    "### As we can see title column have multiple unique values so.\n",
    "### So 'title' columns can not help in our analysis\n",
    "### That's why we can drop this column"
   ]
  },
  {
   "cell_type": "code",
   "execution_count": 35,
   "id": "65ab48e3",
   "metadata": {},
   "outputs": [],
   "source": [
    "df.drop(columns=['title'], inplace=True) # dropping 'title' column from data frame"
   ]
  },
  {
   "cell_type": "code",
   "execution_count": 36,
   "id": "4228ce47",
   "metadata": {},
   "outputs": [
    {
     "data": {
      "text/plain": [
       "Oct-99    360\n",
       "Nov-98    357\n",
       "Oct-00    341\n",
       "Dec-98    340\n",
       "Dec-97    318\n",
       "         ... \n",
       "Nov-65      1\n",
       "Feb-73      1\n",
       "Oct-08      1\n",
       "Dec-61      1\n",
       "Oct-74      1\n",
       "Name: earliest_cr_line, Length: 524, dtype: int64"
      ]
     },
     "execution_count": 36,
     "metadata": {},
     "output_type": "execute_result"
    }
   ],
   "source": [
    "df.earliest_cr_line.value_counts()"
   ]
  },
  {
   "cell_type": "code",
   "execution_count": 37,
   "id": "be051408",
   "metadata": {},
   "outputs": [
    {
     "name": "stderr",
     "output_type": "stream",
     "text": [
      "C:\\Users\\ANKITA\\AppData\\Local\\Temp\\ipykernel_22188\\1966449967.py:1: FutureWarning: Columnar iteration over characters will be deprecated in future releases.\n",
      "  month, year = df.earliest_cr_line.str.split('-').str\n"
     ]
    }
   ],
   "source": [
    "month, year = df.earliest_cr_line.str.split('-').str\n",
    "month_list = ['Jan','Feb','Mar','Apr','May','Jun','Jul','Aug','Sep','Oct','Nov','Dec']"
   ]
  },
  {
   "cell_type": "code",
   "execution_count": 38,
   "id": "27ce21ec",
   "metadata": {},
   "outputs": [],
   "source": [
    "def get_day_from_earliest_cr_line(data):\n",
    "    ''' To convert inconsitant month year into days based on today'''\n",
    "    from datetime import datetime\n",
    "    current_year = datetime.today().year\n",
    "    # splitting data into month and year\n",
    "    month, year = data.split('-')\n",
    "    \n",
    "    if year in month_list:\n",
    "        year,month = month,year\n",
    "    year = 2000 + int(year)\n",
    "    \n",
    "    if year > int(current_year):\n",
    "        year -= 100\n",
    "    # converting year month into datetime format\n",
    "    earliest_cr_date = datetime.strptime(f'{year}-{month}-1', '%Y-%b-%d')\n",
    "    rest_days = datetime.today()-earliest_cr_date\n",
    "    return rest_days.days"
   ]
  },
  {
   "cell_type": "code",
   "execution_count": 39,
   "id": "6d3f4158",
   "metadata": {},
   "outputs": [
    {
     "data": {
      "text/plain": [
       "553"
      ]
     },
     "execution_count": 39,
     "metadata": {},
     "output_type": "execute_result"
    }
   ],
   "source": [
    "get_day_from_earliest_cr_line(\"20-Dec\")\n"
   ]
  },
  {
   "cell_type": "code",
   "execution_count": 40,
   "id": "6df5e654",
   "metadata": {},
   "outputs": [],
   "source": [
    "df.earliest_cr_line = df.earliest_cr_line.apply(get_day_from_earliest_cr_line)"
   ]
  },
  {
   "cell_type": "code",
   "execution_count": 41,
   "id": "22964195",
   "metadata": {},
   "outputs": [
    {
     "data": {
      "text/plain": [
       "count    38577.000000\n",
       "mean      9253.981647\n",
       "std       2491.854695\n",
       "min       4966.000000\n",
       "25%       7584.000000\n",
       "50%       8803.000000\n",
       "75%      10415.000000\n",
       "max      27916.000000\n",
       "Name: earliest_cr_line, dtype: float64"
      ]
     },
     "execution_count": 41,
     "metadata": {},
     "output_type": "execute_result"
    }
   ],
   "source": [
    "df.earliest_cr_line.describe()"
   ]
  },
  {
   "cell_type": "code",
   "execution_count": 42,
   "id": "08994d09",
   "metadata": {},
   "outputs": [
    {
     "data": {
      "text/plain": [
       "0    83.70%\n",
       "1     9.40%\n",
       "2    98.50%\n",
       "3       21%\n",
       "5    28.30%\n",
       "Name: revol_util, dtype: object"
      ]
     },
     "execution_count": 42,
     "metadata": {},
     "output_type": "execute_result"
    }
   ],
   "source": [
    "df.revol_util.head()"
   ]
  },
  {
   "cell_type": "code",
   "execution_count": 43,
   "id": "fe54148c",
   "metadata": {},
   "outputs": [
    {
     "data": {
      "text/plain": [
       "0    83.7\n",
       "1     9.4\n",
       "2    98.5\n",
       "3    21.0\n",
       "5    28.3\n",
       "Name: revol_util, dtype: float64"
      ]
     },
     "execution_count": 43,
     "metadata": {},
     "output_type": "execute_result"
    }
   ],
   "source": [
    "# removing % to get proper data or value\n",
    "\n",
    "df.revol_util = df.revol_util.str.replace('%','').astype(float)\n",
    "df.revol_util.head()"
   ]
  },
  {
   "cell_type": "markdown",
   "id": "e2564bc8",
   "metadata": {},
   "source": [
    "## Now data is cleaned. We can start univariate analysis"
   ]
  },
  {
   "cell_type": "markdown",
   "id": "726d6da9",
   "metadata": {},
   "source": [
    "# Univariate Analysis"
   ]
  },
  {
   "cell_type": "code",
   "execution_count": 63,
   "id": "bad874cd",
   "metadata": {},
   "outputs": [
    {
     "data": {
      "text/plain": [
       "<AxesSubplot:xlabel='grade', ylabel='count'>"
      ]
     },
     "execution_count": 63,
     "metadata": {},
     "output_type": "execute_result"
    },
    {
     "data": {
      "image/png": "[encoded data removed]",
      "text/plain": [
       "<Figure size 432x288 with 1 Axes>"
      ]
     },
     "metadata": {
      "needs_background": "light"
     },
     "output_type": "display_data"
    }
   ],
   "source": [
    "sns.countplot(x = 'grade', data = df[df.loan_status == 'Charged Off'], order = ['A', 'B', 'C', 'D', 'E', 'F', 'G'])"
   ]
  },
  {
   "cell_type": "code",
   "execution_count": null,
   "id": "e6483d09",
   "metadata": {},
   "outputs": [],
   "source": []
  },
  {
   "cell_type": "code",
   "execution_count": null,
   "id": "f128b224",
   "metadata": {},
   "outputs": [],
   "source": []
  },
  {
   "cell_type": "code",
   "execution_count": null,
   "id": "3ffaa623",
   "metadata": {},
   "outputs": [],
   "source": [
    "### Adding a new column to identify if loan status is 'Charged Off' or not. Assigning 1 for 'Charged Off' and 0 for not charged off"
   ]
  },
  {
   "cell_type": "code",
   "execution_count": 44,
   "id": "837f1e36",
   "metadata": {},
   "outputs": [],
   "source": [
    "df['loan_status_bool'] = df['loan_status'].apply(lambda x: 1 if x=='Charged Off' else 0)"
   ]
  },
  {
   "cell_type": "code",
   "execution_count": 47,
   "id": "7916969a",
   "metadata": {},
   "outputs": [],
   "source": [
    "### Now let us understand the relationship between loan status and loan amount "
   ]
  },
  {
   "cell_type": "code",
   "execution_count": 45,
   "id": "ab252437",
   "metadata": {},
   "outputs": [
    {
     "data": {
      "image/png": "[encoded data removed]",
      "text/plain": [
       "<Figure size 1440x864 with 1 Axes>"
      ]
     },
     "metadata": {
      "needs_background": "light"
     },
     "output_type": "display_data"
    }
   ],
   "source": [
    "plt.figure(figsize=(20, 12))\n",
    "plt.subplot(2,2,1)\n",
    "sns.boxplot(x = 'loan_status', y = 'loan_amnt', data = df)\n",
    "plt.show()"
   ]
  },
  {
   "cell_type": "code",
   "execution_count": 49,
   "id": "0e80e27e",
   "metadata": {},
   "outputs": [],
   "source": [
    "### Lets remove the outliers and check other stats"
   ]
  },
  {
   "cell_type": "code",
   "execution_count": 46,
   "id": "379c6ebe",
   "metadata": {},
   "outputs": [
    {
     "data": {
      "text/plain": [
       "count    38577.000000\n",
       "mean     11047.025430\n",
       "std       7348.441646\n",
       "min        500.000000\n",
       "25%       5300.000000\n",
       "50%       9600.000000\n",
       "75%      15000.000000\n",
       "max      35000.000000\n",
       "Name: loan_amnt, dtype: float64"
      ]
     },
     "execution_count": 46,
     "metadata": {},
     "output_type": "execute_result"
    }
   ],
   "source": [
    "df['loan_amnt'].describe()"
   ]
  },
  {
   "cell_type": "code",
   "execution_count": 51,
   "id": "c2e982b9",
   "metadata": {},
   "outputs": [],
   "source": [
    "### limitting data to 75% which is roughly 15000"
   ]
  },
  {
   "cell_type": "code",
   "execution_count": 47,
   "id": "16840ae8",
   "metadata": {},
   "outputs": [],
   "source": [
    "loan_till75 = df.loc[(df['loan_amnt']<=15000)]"
   ]
  },
  {
   "cell_type": "code",
   "execution_count": 48,
   "id": "7d06d2a2",
   "metadata": {},
   "outputs": [
    {
     "data": {
      "image/png": "[encoded data removed]",
      "text/plain": [
       "<Figure size 1440x864 with 1 Axes>"
      ]
     },
     "metadata": {
      "needs_background": "light"
     },
     "output_type": "display_data"
    }
   ],
   "source": [
    "plt.figure(figsize=(20, 12))\n",
    "plt.subplot(2,2,1)\n",
    "sns.boxplot(x = 'loan_status', y = 'loan_amnt', data = loan_till75)\n",
    "plt.show()"
   ]
  },
  {
   "cell_type": "code",
   "execution_count": 54,
   "id": "5347c22c",
   "metadata": {},
   "outputs": [],
   "source": [
    "## This shows us that higher amount tends to more Charged Off and lower loan amount the Charged of chances are less."
   ]
  },
  {
   "cell_type": "code",
   "execution_count": 55,
   "id": "ff1b17fa",
   "metadata": {},
   "outputs": [],
   "source": [
    "### Let us understand how each field correlates with the other."
   ]
  },
  {
   "cell_type": "code",
   "execution_count": 49,
   "id": "fb5b19c0",
   "metadata": {},
   "outputs": [
    {
     "data": {
      "image/png": "[encoded data removed]",
      "text/plain": [
       "<Figure size 864x864 with 4 Axes>"
      ]
     },
     "metadata": {
      "needs_background": "light"
     },
     "output_type": "display_data"
    }
   ],
   "source": [
    "sns.clustermap(data=df.corr(), cmap='YlGnBu', figsize=(12,12))\n",
    "plt.show()"
   ]
  },
  {
   "cell_type": "code",
   "execution_count": 57,
   "id": "4339c2d1",
   "metadata": {},
   "outputs": [],
   "source": [
    "### In the above clustermap we find there are 3 main clusters with high correlation. In the 1st cluster we find 5 variables \n",
    "### being highly correlated: total_pymnt_inv, installment, funded_amnt_inv, loan_amnt, funded_amnt.\n",
    "### In the 2nd cluster, the highly correlated values are: pub_rec, pub_rec_bankruptcies.\n",
    "### the 3rd highly correlated cluster are: open_acc, total_acc"
   ]
  },
  {
   "cell_type": "code",
   "execution_count": 50,
   "id": "c0da285b",
   "metadata": {},
   "outputs": [
    {
     "data": {
      "image/png": "[encoded data removed]",
      "text/plain": [
       "<Figure size 576x432 with 1 Axes>"
      ]
     },
     "metadata": {
      "needs_background": "light"
     },
     "output_type": "display_data"
    }
   ],
   "source": [
    "fig, ax = plt.subplots(figsize=(8,6))\n",
    "column = 'loan_amnt'\n",
    "plotdata = df\n",
    "by='loan_status'\n",
    "sns.countplot(data=plotdata, y=column, hue=by, ax=ax, \n",
    "              order=plotdata[column].value_counts().index)\n",
    "\n",
    "plt.show()\n",
    "\n",
    "df1 = df.groupby([column])[by].value_counts(normalize=True\n",
    "    ).rename('Charged off %').reset_index().sort_values(column)\n",
    "df2 = df1.loc[df1[by]=='Charged Off'].sort_values(by=by, ascending=False).drop(columns=[by])\n",
    "df3 = df.groupby([column])[by].count()\n",
    "df1 = df1.merge(right=df3,on=column).rename(columns={by:'Record count'})"
   ]
  },
  {
   "cell_type": "code",
   "execution_count": null,
   "id": "c52b47ea",
   "metadata": {},
   "outputs": [],
   "source": [
    "### Nothing can be understood from the above. Let us try to make it better."
   ]
  },
  {
   "cell_type": "code",
   "execution_count": null,
   "id": "63dbd427",
   "metadata": {},
   "outputs": [],
   "source": []
  },
  {
   "cell_type": "code",
   "execution_count": 51,
   "id": "9f749eda",
   "metadata": {},
   "outputs": [],
   "source": [
    "def ConvertToBins (*, data=df, column, trailer=''):\n",
    "    \"\"\"\n",
    "        Parameters:\n",
    "            data : defaulted to 'loan'\n",
    "            column : this is the continuous numeric field which has to be binned to its percentiles\n",
    "            trailer : defaulted to blank, this will be added to the end of the percentile values\n",
    "                      like '%' for interest rate related fields\n",
    "        Returns:\n",
    "            None\n",
    "            It creates a new column in the data with a suffix '_p' and this contains the newly created category\n",
    "    \"\"\"\n",
    "    new_column = column + '_p'\n",
    "    labels = ['Lowest ','Lower ','Medium ','Higher ','Highest ']\n",
    "    labels = [labels[p] + '(' +\n",
    "              str(round(np.nanpercentile(data[column], p * 20),2)) +\n",
    "              trailer + ' - ' +\n",
    "              str(round(np.nanpercentile(data[column], (p+1) * 20),2)) +\n",
    "              trailer + ')'\n",
    "              for p in range(5)]\n",
    "    data[new_column] = pd.qcut(data[column], q=5, labels=labels)"
   ]
  },
  {
   "cell_type": "code",
   "execution_count": 53,
   "id": "aa49342e",
   "metadata": {},
   "outputs": [],
   "source": [
    "ConvertToBins(column='loan_amnt')"
   ]
  },
  {
   "cell_type": "code",
   "execution_count": 54,
   "id": "b9ba9299",
   "metadata": {},
   "outputs": [
    {
     "data": {
      "text/plain": [
       "0          Lowest (500.0 - 5000.0)\n",
       "1          Lowest (500.0 - 5000.0)\n",
       "2          Lowest (500.0 - 5000.0)\n",
       "3        Medium (7750.0 - 11200.0)\n",
       "5          Lowest (500.0 - 5000.0)\n",
       "                   ...            \n",
       "39712      Lowest (500.0 - 5000.0)\n",
       "39713    Medium (7750.0 - 11200.0)\n",
       "39714      Lowest (500.0 - 5000.0)\n",
       "39715      Lowest (500.0 - 5000.0)\n",
       "39716      Lower (5000.0 - 7750.0)\n",
       "Name: loan_amnt_p, Length: 38577, dtype: category\n",
       "Categories (5, object): ['Lowest (500.0 - 5000.0)' < 'Lower (5000.0 - 7750.0)' < 'Medium (7750.0 - 11200.0)' < 'Higher (11200.0 - 16000.0)' < 'Highest (16000.0 - 35000.0)']"
      ]
     },
     "execution_count": 54,
     "metadata": {},
     "output_type": "execute_result"
    }
   ],
   "source": [
    "df.loan_amnt_p"
   ]
  },
  {
   "cell_type": "code",
   "execution_count": 91,
   "id": "20f4a4a8",
   "metadata": {},
   "outputs": [],
   "source": [
    "def UnivariatePlotForCategorical (*, data=df, column, figsize=(8,6), box_plot=False):\n",
    "    \"\"\"\n",
    "        Parameters:\n",
    "            data : defaulted at the 'df' variable, but can be changed externally if needed\n",
    "            column : need to provide the numerical column for comparison\n",
    "            figsize : a default have is given, but can be overridden\n",
    "    \"\"\"\n",
    "\n",
    "    fig, ax = plt.subplots(figsize=figsize)\n",
    "    sns.countplot(data=data, y=column, hue=by, ax=ax, \n",
    "                  order=plotdata[column].value_counts().index)\n",
    "    plt.show()       "
   ]
  },
  {
   "cell_type": "code",
   "execution_count": 96,
   "id": "f30c52d2",
   "metadata": {},
   "outputs": [],
   "source": [
    "from IPython.display import HTML\n",
    "\n",
    "def PercentageTable(column, by, data=df):\n",
    "    df2 = data.groupby([column])[by].value_counts(normalize=True).rename('Charged off %').reset_index().sort_values(column)\n",
    "    df2 = df2.loc[df2[by]=='Charged Off'].sort_values(by='Charged off %', ascending=False).drop(columns=[by])\n",
    "    df3 = data.groupby([column])[by].count()\n",
    "    df2 = df2.merge(right=df3,on=column).rename(columns={by:'Record count'})\n",
    "    display(HTML(df2.to_html(index=False)))"
   ]
  },
  {
   "cell_type": "code",
   "execution_count": null,
   "id": "b153ed51",
   "metadata": {},
   "outputs": [],
   "source": []
  },
  {
   "cell_type": "code",
   "execution_count": 90,
   "id": "dab55b63",
   "metadata": {},
   "outputs": [
    {
     "data": {
      "image/png": "[encoded data removed]",
      "text/plain": [
       "<Figure size 576x432 with 1 Axes>"
      ]
     },
     "metadata": {
      "needs_background": "light"
     },
     "output_type": "display_data"
    },
    {
     "data": {
      "text/html": [
       "<table border=\"1\" class=\"dataframe\">\n",
       "  <thead>\n",
       "    <tr style=\"text-align: right;\">\n",
       "      <th>loan_amnt_p</th>\n",
       "      <th>Charged off %</th>\n",
       "      <th>Record count</th>\n",
       "    </tr>\n",
       "  </thead>\n",
       "  <tbody>\n",
       "    <tr>\n",
       "      <td>Highest (16000.0 - 35000.0)</td>\n",
       "      <td>0.187624</td>\n",
       "      <td>7579</td>\n",
       "    </tr>\n",
       "    <tr>\n",
       "      <td>Higher (11200.0 - 16000.0)</td>\n",
       "      <td>0.145368</td>\n",
       "      <td>7739</td>\n",
       "    </tr>\n",
       "    <tr>\n",
       "      <td>Lowest (500.0 - 5000.0)</td>\n",
       "      <td>0.138725</td>\n",
       "      <td>9472</td>\n",
       "    </tr>\n",
       "    <tr>\n",
       "      <td>Medium (7750.0 - 11200.0)</td>\n",
       "      <td>0.131613</td>\n",
       "      <td>7788</td>\n",
       "    </tr>\n",
       "    <tr>\n",
       "      <td>Lower (5000.0 - 7750.0)</td>\n",
       "      <td>0.123521</td>\n",
       "      <td>5999</td>\n",
       "    </tr>\n",
       "  </tbody>\n",
       "</table>"
      ],
      "text/plain": [
       "<IPython.core.display.HTML object>"
      ]
     },
     "metadata": {},
     "output_type": "display_data"
    }
   ],
   "source": [
    "UnivariatePlotForCategorical(column='loan_amnt_p')"
   ]
  },
  {
   "cell_type": "markdown",
   "id": "7f1f29cf",
   "metadata": {},
   "source": [
    "### As we can see Fully Paid percentage is more when loan amount is less.\n",
    "### We can say loan amount is inversely proportional to fully paid."
   ]
  },
  {
   "cell_type": "code",
   "execution_count": 69,
   "id": "9062c68f",
   "metadata": {},
   "outputs": [
    {
     "data": {
      "image/png": "[encoded data removed]",
      "text/plain": [
       "<Figure size 576x432 with 1 Axes>"
      ]
     },
     "metadata": {
      "needs_background": "light"
     },
     "output_type": "display_data"
    }
   ],
   "source": [
    "UnivariatePlotForCategorical(column='int_rate_p')"
   ]
  },
  {
   "cell_type": "code",
   "execution_count": null,
   "id": "d3351e9a",
   "metadata": {},
   "outputs": [],
   "source": [
    "### Here also we can see the Charged Off percentage is higher for the hgher interest rate."
   ]
  },
  {
   "cell_type": "code",
   "execution_count": 70,
   "id": "243b2b9c",
   "metadata": {},
   "outputs": [
    {
     "data": {
      "image/png": "[encoded data removed]",
      "text/plain": [
       "<Figure size 576x432 with 1 Axes>"
      ]
     },
     "metadata": {
      "needs_background": "light"
     },
     "output_type": "display_data"
    }
   ],
   "source": [
    "UnivariatePlotForCategorical(column='installment_p')"
   ]
  },
  {
   "cell_type": "code",
   "execution_count": 65,
   "id": "68a40b3e",
   "metadata": {},
   "outputs": [],
   "source": [
    "### Charged off percentage steadily rises with higher installment amount\n"
   ]
  },
  {
   "cell_type": "code",
   "execution_count": 71,
   "id": "89649883",
   "metadata": {},
   "outputs": [
    {
     "data": {
      "image/png": "[encoded data removed]",
      "text/plain": [
       "<Figure size 576x432 with 1 Axes>"
      ]
     },
     "metadata": {
      "needs_background": "light"
     },
     "output_type": "display_data"
    }
   ],
   "source": [
    "UnivariatePlotForCategorical(column='annual_inc_p')"
   ]
  },
  {
   "cell_type": "code",
   "execution_count": 67,
   "id": "48f8fc4c",
   "metadata": {},
   "outputs": [],
   "source": [
    "### In this the lowest annual income group is more likely to get Charged Off"
   ]
  },
  {
   "cell_type": "code",
   "execution_count": 72,
   "id": "0e7777f5",
   "metadata": {},
   "outputs": [
    {
     "data": {
      "image/png": "[encoded data removed]",
      "text/plain": [
       "<Figure size 576x432 with 1 Axes>"
      ]
     },
     "metadata": {
      "needs_background": "light"
     },
     "output_type": "display_data"
    }
   ],
   "source": [
    "UnivariatePlotForCategorical(column='dti_p')"
   ]
  },
  {
   "cell_type": "code",
   "execution_count": null,
   "id": "2fdc20a4",
   "metadata": {},
   "outputs": [],
   "source": [
    "### We see that high debt to income ratio results in more chances of Charged Off"
   ]
  },
  {
   "cell_type": "code",
   "execution_count": 73,
   "id": "11e2361c",
   "metadata": {},
   "outputs": [
    {
     "data": {
      "image/png": "[encoded data removed]",
      "text/plain": [
       "<Figure size 576x432 with 1 Axes>"
      ]
     },
     "metadata": {
      "needs_background": "light"
     },
     "output_type": "display_data"
    }
   ],
   "source": [
    "UnivariatePlotForCategorical(column='revol_util_p')"
   ]
  },
  {
   "cell_type": "code",
   "execution_count": null,
   "id": "d755e590",
   "metadata": {},
   "outputs": [],
   "source": [
    "### Its clear that revolving line utilisation rate has a large impact to the chance of Charged Off"
   ]
  },
  {
   "cell_type": "code",
   "execution_count": 74,
   "id": "6b320558",
   "metadata": {},
   "outputs": [
    {
     "data": {
      "image/png": "[encoded data removed]",
      "text/plain": [
       "<Figure size 576x432 with 1 Axes>"
      ]
     },
     "metadata": {
      "needs_background": "light"
     },
     "output_type": "display_data"
    }
   ],
   "source": [
    "UnivariatePlotForCategorical(column='term')"
   ]
  },
  {
   "cell_type": "code",
   "execution_count": null,
   "id": "8eea472b",
   "metadata": {},
   "outputs": [],
   "source": [
    "### Simply put higher the tenure higher the chances that the loan is fully paid"
   ]
  },
  {
   "cell_type": "code",
   "execution_count": 75,
   "id": "63b5f9ba",
   "metadata": {},
   "outputs": [
    {
     "data": {
      "image/png": "[encoded data removed]",
      "text/plain": [
       "<Figure size 576x432 with 1 Axes>"
      ]
     },
     "metadata": {
      "needs_background": "light"
     },
     "output_type": "display_data"
    }
   ],
   "source": [
    "UnivariatePlotForCategorical(column='grade')"
   ]
  },
  {
   "cell_type": "code",
   "execution_count": null,
   "id": "5ddfcf34",
   "metadata": {},
   "outputs": [],
   "source": [
    "### This varies hugely with grade and does not follow a pattern."
   ]
  },
  {
   "cell_type": "code",
   "execution_count": 76,
   "id": "9cad392c",
   "metadata": {},
   "outputs": [
    {
     "data": {
      "image/png": "[encoded data removed]",
      "text/plain": [
       "<Figure size 576x432 with 1 Axes>"
      ]
     },
     "metadata": {
      "needs_background": "light"
     },
     "output_type": "display_data"
    }
   ],
   "source": [
    "UnivariatePlotForCategorical(column='emp_length')"
   ]
  },
  {
   "cell_type": "code",
   "execution_count": null,
   "id": "dd99c2e8",
   "metadata": {},
   "outputs": [],
   "source": [
    "### Employement length does not tell us much about if loan will default or get fully paid"
   ]
  },
  {
   "cell_type": "code",
   "execution_count": 78,
   "id": "68cf8660",
   "metadata": {},
   "outputs": [
    {
     "data": {
      "image/png": "[encoded data removed]",
      "text/plain": [
       "<Figure size 576x432 with 1 Axes>"
      ]
     },
     "metadata": {
      "needs_background": "light"
     },
     "output_type": "display_data"
    }
   ],
   "source": [
    "UnivariatePlotForCategorical(column='home_ownership')"
   ]
  },
  {
   "cell_type": "code",
   "execution_count": null,
   "id": "406905ea",
   "metadata": {},
   "outputs": [],
   "source": [
    "### It is clear that owning a house has very less chances of being Charged Off"
   ]
  },
  {
   "cell_type": "code",
   "execution_count": 79,
   "id": "0193a7c1",
   "metadata": {},
   "outputs": [
    {
     "data": {
      "image/png": "[encoded data removed]",
      "text/plain": [
       "<Figure size 576x432 with 1 Axes>"
      ]
     },
     "metadata": {
      "needs_background": "light"
     },
     "output_type": "display_data"
    }
   ],
   "source": [
    "UnivariatePlotForCategorical(column='verification_status')"
   ]
  },
  {
   "cell_type": "code",
   "execution_count": 97,
   "id": "4cb04a66",
   "metadata": {},
   "outputs": [
    {
     "data": {
      "text/html": [
       "<table border=\"1\" class=\"dataframe\">\n",
       "  <thead>\n",
       "    <tr style=\"text-align: right;\">\n",
       "      <th>verification_status</th>\n",
       "      <th>Charged off %</th>\n",
       "      <th>Record count</th>\n",
       "    </tr>\n",
       "  </thead>\n",
       "  <tbody>\n",
       "    <tr>\n",
       "      <td>Verified</td>\n",
       "      <td>0.168032</td>\n",
       "      <td>12206</td>\n",
       "    </tr>\n",
       "    <tr>\n",
       "      <td>Source Verified</td>\n",
       "      <td>0.148186</td>\n",
       "      <td>9677</td>\n",
       "    </tr>\n",
       "    <tr>\n",
       "      <td>Not Verified</td>\n",
       "      <td>0.128310</td>\n",
       "      <td>16694</td>\n",
       "    </tr>\n",
       "  </tbody>\n",
       "</table>"
      ],
      "text/plain": [
       "<IPython.core.display.HTML object>"
      ]
     },
     "metadata": {},
     "output_type": "display_data"
    }
   ],
   "source": [
    "PercentageTable(\"verification_status\", \"loan_status\")"
   ]
  },
  {
   "cell_type": "code",
   "execution_count": null,
   "id": "79ee2a2a",
   "metadata": {},
   "outputs": [],
   "source": [
    "### verified applicants have more defaulted % which means the verification process is not correct."
   ]
  },
  {
   "cell_type": "code",
   "execution_count": 98,
   "id": "2eccef5d",
   "metadata": {},
   "outputs": [
    {
     "data": {
      "image/png": "[encoded data removed]",
      "text/plain": [
       "<Figure size 576x432 with 1 Axes>"
      ]
     },
     "metadata": {
      "needs_background": "light"
     },
     "output_type": "display_data"
    },
    {
     "data": {
      "text/html": [
       "<table border=\"1\" class=\"dataframe\">\n",
       "  <thead>\n",
       "    <tr style=\"text-align: right;\">\n",
       "      <th>purpose</th>\n",
       "      <th>Charged off %</th>\n",
       "      <th>Record count</th>\n",
       "    </tr>\n",
       "  </thead>\n",
       "  <tbody>\n",
       "    <tr>\n",
       "      <td>small_business</td>\n",
       "      <td>0.270810</td>\n",
       "      <td>1754</td>\n",
       "    </tr>\n",
       "    <tr>\n",
       "      <td>renewable_energy</td>\n",
       "      <td>0.186275</td>\n",
       "      <td>102</td>\n",
       "    </tr>\n",
       "    <tr>\n",
       "      <td>educational</td>\n",
       "      <td>0.172308</td>\n",
       "      <td>325</td>\n",
       "    </tr>\n",
       "    <tr>\n",
       "      <td>other</td>\n",
       "      <td>0.163777</td>\n",
       "      <td>3865</td>\n",
       "    </tr>\n",
       "    <tr>\n",
       "      <td>house</td>\n",
       "      <td>0.160763</td>\n",
       "      <td>367</td>\n",
       "    </tr>\n",
       "    <tr>\n",
       "      <td>moving</td>\n",
       "      <td>0.159722</td>\n",
       "      <td>576</td>\n",
       "    </tr>\n",
       "    <tr>\n",
       "      <td>medical</td>\n",
       "      <td>0.155653</td>\n",
       "      <td>681</td>\n",
       "    </tr>\n",
       "    <tr>\n",
       "      <td>debt_consolidation</td>\n",
       "      <td>0.153254</td>\n",
       "      <td>18055</td>\n",
       "    </tr>\n",
       "    <tr>\n",
       "      <td>vacation</td>\n",
       "      <td>0.141333</td>\n",
       "      <td>375</td>\n",
       "    </tr>\n",
       "    <tr>\n",
       "      <td>home_improvement</td>\n",
       "      <td>0.120696</td>\n",
       "      <td>2875</td>\n",
       "    </tr>\n",
       "    <tr>\n",
       "      <td>credit_card</td>\n",
       "      <td>0.107818</td>\n",
       "      <td>5027</td>\n",
       "    </tr>\n",
       "    <tr>\n",
       "      <td>car</td>\n",
       "      <td>0.106738</td>\n",
       "      <td>1499</td>\n",
       "    </tr>\n",
       "    <tr>\n",
       "      <td>wedding</td>\n",
       "      <td>0.103672</td>\n",
       "      <td>926</td>\n",
       "    </tr>\n",
       "    <tr>\n",
       "      <td>major_purchase</td>\n",
       "      <td>0.103256</td>\n",
       "      <td>2150</td>\n",
       "    </tr>\n",
       "  </tbody>\n",
       "</table>"
      ],
      "text/plain": [
       "<IPython.core.display.HTML object>"
      ]
     },
     "metadata": {},
     "output_type": "display_data"
    }
   ],
   "source": [
    "UnivariatePlotForCategorical(column='purpose')\n",
    "PercentageTable(\"purpose\", \"loan_status\")"
   ]
  },
  {
   "cell_type": "code",
   "execution_count": null,
   "id": "18165f77",
   "metadata": {},
   "outputs": [],
   "source": [
    "### The table makes it clear that loans taken for small_business, renewable_energy and educational are the riskier ones"
   ]
  },
  {
   "cell_type": "code",
   "execution_count": null,
   "id": "a2f8f7d4",
   "metadata": {},
   "outputs": [],
   "source": [
    "# Let us now understand for Bivariate analysis by taking groups of variables"
   ]
  },
  {
   "cell_type": "code",
   "execution_count": 102,
   "id": "55a2c227",
   "metadata": {},
   "outputs": [],
   "source": [
    "def Bivariate_Categorical (*, data=df, x, y, figsize=(8,6)):\n",
    "    \"\"\"\n",
    "        Parameters:\n",
    "            data : defaulted at the 'loan' variable, but can be changed externally if needed\n",
    "            x, y : columns of data in the corresponding axis, both categorical\n",
    "            figsize : a default have is given, but can be overridden\n",
    "        Returns:\n",
    "            None, does a heatmap plot\n",
    "    \"\"\"\n",
    "    fig, ax = plt.subplots(figsize=figsize)\n",
    "    pt = pd.pivot_table(data=data, values='loan_status_bool', index=y, columns=x)\n",
    "    sns.heatmap(pt, ax=ax, cmap='YlGnBu')\n",
    "    plt.show()"
   ]
  },
  {
   "cell_type": "code",
   "execution_count": 103,
   "id": "f5c0b8ee",
   "metadata": {},
   "outputs": [
    {
     "data": {
      "image/png": "[encoded data removed]",
      "text/plain": [
       "<Figure size 576x432 with 2 Axes>"
      ]
     },
     "metadata": {
      "needs_background": "light"
     },
     "output_type": "display_data"
    }
   ],
   "source": [
    "Bivariate_Categorical(x='home_ownership', y='purpose')"
   ]
  },
  {
   "cell_type": "code",
   "execution_count": null,
   "id": "bb6797ce",
   "metadata": {},
   "outputs": [],
   "source": [
    "### From this it is clear that for other category of home_ownership it is most risky when the loan purpose is Moving and Car"
   ]
  },
  {
   "cell_type": "code",
   "execution_count": null,
   "id": "e267802d",
   "metadata": {},
   "outputs": [],
   "source": []
  },
  {
   "cell_type": "code",
   "execution_count": 104,
   "id": "fef0b4e1",
   "metadata": {},
   "outputs": [
    {
     "data": {
      "image/png": "[encoded data removed]",
      "text/plain": [
       "<Figure size 1584x576 with 2 Axes>"
      ]
     },
     "metadata": {
      "needs_background": "light"
     },
     "output_type": "display_data"
    }
   ],
   "source": [
    "Bivariate_Categorical(x='addr_state', y='purpose', figsize=(22,8))"
   ]
  },
  {
   "cell_type": "code",
   "execution_count": null,
   "id": "f048b029",
   "metadata": {},
   "outputs": [],
   "source": [
    "### From this it is clear that for certain states, \n",
    "### loan taken for vacation is the most risky, \n",
    "### for some states NE and NH house and home improvement loans are risky. \n",
    "### For NE state, mostly the loans across different purpose are not that risky. \n",
    "### Loans taken in the states of IA, ID, IN, ME, VT are not that risky. \n",
    "### Loans taken for small business is consistently mildly risky across all states. \n",
    "### Renewable energy, credit card and wedding loans are comparably safer than others "
   ]
  },
  {
   "cell_type": "code",
   "execution_count": null,
   "id": "bfb612cf",
   "metadata": {},
   "outputs": [],
   "source": []
  },
  {
   "cell_type": "code",
   "execution_count": 105,
   "id": "228f267b",
   "metadata": {},
   "outputs": [
    {
     "data": {
      "image/png": "[encoded data removed]",
      "text/plain": [
       "<Figure size 720x288 with 2 Axes>"
      ]
     },
     "metadata": {
      "needs_background": "light"
     },
     "output_type": "display_data"
    }
   ],
   "source": [
    "Bivariate_Categorical(x='purpose', y='annual_inc_p', figsize=(10,4))"
   ]
  },
  {
   "cell_type": "code",
   "execution_count": null,
   "id": "1b896825",
   "metadata": {},
   "outputs": [],
   "source": [
    "### we can clearly see that, small_business and renewable energy are the riskiest among all annual income categories"
   ]
  },
  {
   "cell_type": "code",
   "execution_count": null,
   "id": "4c3b7b34",
   "metadata": {},
   "outputs": [],
   "source": []
  },
  {
   "cell_type": "code",
   "execution_count": 106,
   "id": "762536fa",
   "metadata": {},
   "outputs": [
    {
     "data": {
      "image/png": "[encoded data removed]",
      "text/plain": [
       "<Figure size 720x288 with 2 Axes>"
      ]
     },
     "metadata": {
      "needs_background": "light"
     },
     "output_type": "display_data"
    }
   ],
   "source": [
    "Bivariate_Categorical(x='dti_p', y='annual_inc_p', figsize=(10,4))"
   ]
  },
  {
   "cell_type": "code",
   "execution_count": null,
   "id": "8a47d7e0",
   "metadata": {},
   "outputs": [],
   "source": [
    "### Very obvious that the lowest annual income category is the most risky among all debt to income ratio categories"
   ]
  },
  {
   "cell_type": "code",
   "execution_count": null,
   "id": "93c10529",
   "metadata": {},
   "outputs": [],
   "source": []
  },
  {
   "cell_type": "code",
   "execution_count": 65,
   "id": "7c8344f1",
   "metadata": {},
   "outputs": [],
   "source": [
    "# Conclusion"
   ]
  },
  {
   "cell_type": "code",
   "execution_count": 66,
   "id": "7637b20a",
   "metadata": {},
   "outputs": [],
   "source": [
    "### Hence now we have arrived at some great conclusions after the analysis. \n",
    "### Below are listed some of the important factors according to me but there can be other factors also"
   ]
  },
  {
   "cell_type": "code",
   "execution_count": 67,
   "id": "05225f6f",
   "metadata": {},
   "outputs": [],
   "source": [
    "## These factors have minor impact on loan being Charged Off:\n",
    "### Higher Loan amount, Higher installment amount, Lower annual income, Higher dti ratio, Applicant's addressed state"
   ]
  },
  {
   "cell_type": "code",
   "execution_count": 68,
   "id": "c05bfd9b",
   "metadata": {},
   "outputs": [],
   "source": [
    "## The following factors are mostly the major impact on loan being Charged Off:\n",
    "### Higher interest Rate, Repayment term, Loan purpose, Derogatory public records, public bankruptcy records, loan grade"
   ]
  },
  {
   "cell_type": "code",
   "execution_count": 69,
   "id": "a467dbda",
   "metadata": {},
   "outputs": [],
   "source": [
    "## These are the combined impacts on loan being Charged Off:\n",
    "### High loan amount and interest rate for lower income group, High installment and longer repayment term, \n",
    "### home ownership and loan purpose, Residential State and loan purpose, Income group and loan purpose"
   ]
  },
  {
   "cell_type": "code",
   "execution_count": null,
   "id": "f7fbb0da",
   "metadata": {},
   "outputs": [],
   "source": []
  },
  {
   "cell_type": "code",
   "execution_count": null,
   "id": "eb52adfe",
   "metadata": {},
   "outputs": [],
   "source": []
  }
 ],
 "metadata": {
  "kernelspec": {
   "display_name": "Python 3 (ipykernel)",
   "language": "python",
   "name": "python3"
  },
  "language_info": {
   "codemirror_mode": {
    "name": "ipython",
    "version": 3
   },
   "file_extension": ".py",
   "mimetype": "text/x-python",
   "name": "python",
   "nbconvert_exporter": "python",
   "pygments_lexer": "ipython3",
   "version": "3.9.5"
  }
 },
 "nbformat": 4,
 "nbformat_minor": 5
}
